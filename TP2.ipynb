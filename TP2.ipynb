{
 "cells": [
  {
   "cell_type": "code",
   "execution_count": 44,
   "id": "0ef334d4",
   "metadata": {},
   "outputs": [
    {
     "data": {
      "text/plain": [
       "'C:\\\\Users\\\\d'"
      ]
     },
     "execution_count": 44,
     "metadata": {},
     "output_type": "execute_result"
    }
   ],
   "source": [
    "import os\n",
    "import numpy as np # linear algebra\n",
    "import pandas as pd\n",
    "os.getcwd()\n"
   ]
  },
  {
   "cell_type": "code",
   "execution_count": 45,
   "id": "512775cc",
   "metadata": {},
   "outputs": [],
   "source": [
    "import gensim\n",
    "from gensim.models import Word2Vec\n",
    "from gensim.utils import simple_preprocess\n"
   ]
  },
  {
   "cell_type": "code",
   "execution_count": 15,
   "id": "9970cba7",
   "metadata": {},
   "outputs": [
    {
     "name": "stdout",
     "output_type": "stream",
     "text": [
      "**Morocco and Marrakech: A Tapestry of Tradition and Modernity** Morocco, located at the crossroads of Europe and Africa, is a country drenched in history, mystery, and cultural richness. A testament to the ancient civilizations that once flourished here, this North African kingdom boasts a unique blend of Arab, Berber, and European influences. At the heart of Morocco's rich tapestry lies Marrakech, one of its four imperial cities and a vibrant epicenter of tradition and modernity. **Geographical Significance** Morocco is bordered by the Atlantic Ocean to the west, the Mediterranean Sea to the north, Algeria to the east and southeast, and the vast Sahara desert to the south. Its strategic location has historically made it a sought-after territory and a melting pot of cultures, religions, and trade routes. **Marrakech: The Red City** Marrakech, often referred to as \"The Red City\" due to its distinctive red-hued buildings, stands against the backdrop of the snow-capped Atlas Mountains. Established in the 11th century, it has remained a crucial political, economic, and cultural center of Morocco. **Journey through the Medina** Marrakech's old town, the Medina, is a UNESCO World Heritage site and a labyrinthine maze of narrow alleys, bustling souks, and historical landmarks. The Djemaa el-Fna Square lies at the heart of the Medina and comes alive every evening with storytellers, musicians, snake charmers, and food stalls offering tantalizing Moroccan delicacies. **Palaces and Gardens** The city is also home to grand palaces like the Bahia Palace, showcasing intricate Islamic architecture, and the Saadian Tombs, remnants of the Saadian dynasty. The Majorelle Garden, restored by the fashion designer Yves Saint Laurent, is a tranquil oasis of cacti, palm trees, and cobalt blue accents. **Modern Marrakech** While tradition and history permeate Marrakech, the city is not averse to the modern world. Gueliz, the new town, is brimming with contemporary art galleries, stylish cafes, and chic boutiques, offering a stark contrast to the ancient Medina. **Moroccan Cuisine** No journey through Morocco and Marrakech would be complete without indulging in the local cuisine. Tagines, couscous, and pastilla are just a few of the many dishes that combine a plethora of flavors and spices like saffron, cumin, and mint. Paired with Moroccan mint tea, the culinary experience is truly unparalleled. **In Conclusion** Morocco, with Marrakech at its heart, offers travelers an unparalleled journey through time. The convergence of history, culture, architecture, and gastronomy makes it an enthralling destination for those seeking both adventure and reflection. As the Moroccan proverb goes, \"He who does not travel does not know the value of men.\" In the case of Morocco and Marrakech, it's not just the value of men, but also the value of time, tradition, and tales that have spanned centuries.\n"
     ]
    }
   ],
   "source": [
    "\n",
    "with open(\"text\", \"r\", encoding=\"utf-8\") as file:\n",
    "    text = file.read()\n",
    "print(text)"
   ]
  },
  {
   "cell_type": "code",
   "execution_count": 60,
   "id": "d9cce87b",
   "metadata": {},
   "outputs": [
    {
     "name": "stdout",
     "output_type": "stream",
     "text": [
      "['[', \"'\", '*', \"'\", ',', \"'\", '*', \"'\", ',', \"'morocco\", \"'\", ',', \"'and\", \"'\", ',', \"'marrakech\", \"'\", ',', \"'\", ':', \"'\", ',', \"'\", 'a', \"'\", ',', \"'tapestry\", \"'\", ',', \"'of\", \"'\", ',', \"'tradition\", \"'\", ',', \"'and\", \"'\", ',', \"'modernity\", \"'\", ',', \"'\", '*', \"'\", ',', \"'\", '*', \"'\", ',', \"'morocco\", \"'\", ',', \"'\", ',', \"'\", ',', \"'located\", \"'\", ',', \"'at\", \"'\", ',', \"'the\", \"'\", ',', \"'crossroads\", \"'\", ',', \"'of\", \"'\", ',', \"'europe\", \"'\", ',', \"'and\", \"'\", ',', \"'africa\", \"'\", ',', \"'\", ',', \"'\", ',', \"'is\", \"'\", ',', \"'\", 'a', \"'\", ',', \"'country\", \"'\", ',', \"'drenched\", \"'\", ',', \"'in\", \"'\", ',', \"'history\", \"'\", ',', \"'\", ',', \"'\", ',', \"'mystery\", \"'\", ',', \"'\", ',', \"'\", ',', \"'and\", \"'\", ',', \"'cultural\", \"'\", ',', \"'richness\", \"'\", ',', \"'\", '.', \"'\", ',', \"'\", 'a', \"'\", ',', \"'testament\", \"'\", ',', \"'to\", \"'\", ',', \"'the\", \"'\", ',', \"'ancient\", \"'\", ',', \"'civilizations\", \"'\", ',', \"'that\", \"'\", ',', \"'once\", \"'\", ',', \"'flourished\", \"'\", ',', \"'here\", \"'\", ',', \"'\", ',', \"'\", ',', \"'this\", \"'\", ',', \"'north\", \"'\", ',', \"'african\", \"'\", ',', \"'kingdom\", \"'\", ',', \"'boasts\", \"'\", ',', \"'\", 'a', \"'\", ',', \"'unique\", \"'\", ',', \"'blend\", \"'\", ',', \"'of\", \"'\", ',', \"'arab\", \"'\", ',', \"'\", ',', \"'\", ',', \"'berber\", \"'\", ',', \"'\", ',', \"'\", ',', \"'and\", \"'\", ',', \"'european\", \"'\", ',', \"'influences\", \"'\", ',', \"'\", '.', \"'\", ',', \"'at\", \"'\", ',', \"'the\", \"'\", ',', \"'heart\", \"'\", ',', \"'of\", \"'\", ',', \"'morocco\", \"'\", ',', '``', \"'s\", \"''\", ',', \"'rich\", \"'\", ',', \"'tapestry\", \"'\", ',', \"'lies\", \"'\", ',', \"'marrakech\", \"'\", ',', \"'\", ',', \"'\", ',', \"'one\", \"'\", ',', \"'of\", \"'\", ',', \"'its\", \"'\", ',', \"'four\", \"'\", ',', \"'imperial\", \"'\", ',', \"'cities\", \"'\", ',', \"'and\", \"'\", ',', \"'\", 'a', \"'\", ',', \"'vibrant\", \"'\", ',', \"'epicenter\", \"'\", ',', \"'of\", \"'\", ',', \"'tradition\", \"'\", ',', \"'and\", \"'\", ',', \"'modernity\", \"'\", ',', \"'\", '.', \"'\", ',', \"'\", '*', \"'\", ',', \"'\", '*', \"'\", ',', \"'geographical\", \"'\", ',', \"'significance\", \"'\", ',', \"'\", '*', \"'\", ',', \"'\", '*', \"'\", ',', \"'morocco\", \"'\", ',', \"'is\", \"'\", ',', \"'bordered\", \"'\", ',', \"'by\", \"'\", ',', \"'the\", \"'\", ',', \"'atlantic\", \"'\", ',', \"'ocean\", \"'\", ',', \"'to\", \"'\", ',', \"'the\", \"'\", ',', \"'west\", \"'\", ',', \"'\", ',', \"'\", ',', \"'the\", \"'\", ',', \"'mediterranean\", \"'\", ',', \"'sea\", \"'\", ',', \"'to\", \"'\", ',', \"'the\", \"'\", ',', \"'north\", \"'\", ',', \"'\", ',', \"'\", ',', \"'algeria\", \"'\", ',', \"'to\", \"'\", ',', \"'the\", \"'\", ',', \"'east\", \"'\", ',', \"'and\", \"'\", ',', \"'southeast\", \"'\", ',', \"'\", ',', \"'\", ',', \"'and\", \"'\", ',', \"'the\", \"'\", ',', \"'vast\", \"'\", ',', \"'sahara\", \"'\", ',', \"'desert\", \"'\", ',', \"'to\", \"'\", ',', \"'the\", \"'\", ',', \"'south\", \"'\", ',', \"'\", '.', \"'\", ',', \"'its\", \"'\", ',', \"'strategic\", \"'\", ',', \"'location\", \"'\", ',', \"'has\", \"'\", ',', \"'historically\", \"'\", ',', \"'made\", \"'\", ',', \"'it\", \"'\", ',', \"'\", 'a', \"'\", ',', \"'sought-after\", \"'\", ',', \"'territory\", \"'\", ',', \"'and\", \"'\", ',', \"'\", 'a', \"'\", ',', \"'melting\", \"'\", ',', \"'pot\", \"'\", ',', \"'of\", \"'\", ',', \"'cultures\", \"'\", ',', \"'\", ',', \"'\", ',', \"'religions\", \"'\", ',', \"'\", ',', \"'\", ',', \"'and\", \"'\", ',', \"'trade\", \"'\", ',', \"'routes\", \"'\", ',', \"'\", '.', \"'\", ',', \"'\", '*', \"'\", ',', \"'\", '*', \"'\", ',', \"'marrakech\", \"'\", ',', \"'\", ':', \"'\", ',', \"'the\", \"'\", ',', \"'red\", \"'\", ',', \"'city\", \"'\", ',', \"'\", '*', \"'\", ',', \"'\", '*', \"'\", ',', \"'marrakech\", \"'\", ',', \"'\", ',', \"'\", ',', \"'often\", \"'\", ',', \"'referred\", \"'\", ',', \"'to\", \"'\", ',', \"'as\", \"'\", ',', \"'\", '``', \"'\", ',', \"'the\", \"'\", ',', \"'red\", \"'\", ',', \"'city\", \"'\", ',', '``', \"''\", \"''\", ',', \"'due\", \"'\", ',', \"'to\", \"'\", ',', \"'its\", \"'\", ',', \"'distinctive\", \"'\", ',', \"'red-hued\", \"'\", ',', \"'buildings\", \"'\", ',', \"'\", ',', \"'\", ',', \"'stands\", \"'\", ',', \"'against\", \"'\", ',', \"'the\", \"'\", ',', \"'backdrop\", \"'\", ',', \"'of\", \"'\", ',', \"'the\", \"'\", ',', \"'snow-capped\", \"'\", ',', \"'atlas\", \"'\", ',', \"'mountains\", \"'\", ',', \"'\", '.', \"'\", ',', \"'established\", \"'\", ',', \"'in\", \"'\", ',', \"'the\", \"'\", ',', \"'11th\", \"'\", ',', \"'century\", \"'\", ',', \"'\", ',', \"'\", ',', \"'it\", \"'\", ',', \"'has\", \"'\", ',', \"'remained\", \"'\", ',', \"'\", 'a', \"'\", ',', \"'crucial\", \"'\", ',', \"'political\", \"'\", ',', \"'\", ',', \"'\", ',', \"'economic\", \"'\", ',', \"'\", ',', \"'\", ',', \"'and\", \"'\", ',', \"'cultural\", \"'\", ',', \"'center\", \"'\", ',', \"'of\", \"'\", ',', \"'morocco\", \"'\", ',', \"'\", '.', \"'\", ',', \"'\", '*', \"'\", ',', \"'\", '*', \"'\", ',', \"'journey\", \"'\", ',', \"'through\", \"'\", ',', \"'the\", \"'\", ',', \"'medina\", \"'\", ',', \"'\", '*', \"'\", ',', \"'\", '*', \"'\", ',', \"'marrakech\", \"'\", ',', '``', \"'s\", \"''\", ',', \"'old\", \"'\", ',', \"'town\", \"'\", ',', \"'\", ',', \"'\", ',', \"'the\", \"'\", ',', \"'medina\", \"'\", ',', \"'\", ',', \"'\", ',', \"'is\", \"'\", ',', \"'\", 'a', \"'\", ',', \"'unesco\", \"'\", ',', \"'world\", \"'\", ',', \"'heritage\", \"'\", ',', \"'site\", \"'\", ',', \"'and\", \"'\", ',', \"'\", 'a', \"'\", ',', \"'labyrinthine\", \"'\", ',', \"'maze\", \"'\", ',', \"'of\", \"'\", ',', \"'narrow\", \"'\", ',', \"'alleys\", \"'\", ',', \"'\", ',', \"'\", ',', \"'bustling\", \"'\", ',', \"'souks\", \"'\", ',', \"'\", ',', \"'\", ',', \"'and\", \"'\", ',', \"'historical\", \"'\", ',', \"'landmarks\", \"'\", ',', \"'\", '.', \"'\", ',', \"'the\", \"'\", ',', \"'djemaa\", \"'\", ',', \"'el-fna\", \"'\", ',', \"'square\", \"'\", ',', \"'lies\", \"'\", ',', \"'at\", \"'\", ',', \"'the\", \"'\", ',', \"'heart\", \"'\", ',', \"'of\", \"'\", ',', \"'the\", \"'\", ',', \"'medina\", \"'\", ',', \"'and\", \"'\", ',', \"'comes\", \"'\", ',', \"'alive\", \"'\", ',', \"'every\", \"'\", ',', \"'evening\", \"'\", ',', \"'with\", \"'\", ',', \"'storytellers\", \"'\", ',', \"'\", ',', \"'\", ',', \"'musicians\", \"'\", ',', \"'\", ',', \"'\", ',', \"'snake\", \"'\", ',', \"'charmers\", \"'\", ',', \"'\", ',', \"'\", ',', \"'and\", \"'\", ',', \"'food\", \"'\", ',', \"'stalls\", \"'\", ',', \"'offering\", \"'\", ',', \"'tantalizing\", \"'\", ',', \"'moroccan\", \"'\", ',', \"'delicacies\", \"'\", ',', \"'\", '.', \"'\", ',', \"'\", '*', \"'\", ',', \"'\", '*', \"'\", ',', \"'palaces\", \"'\", ',', \"'and\", \"'\", ',', \"'gardens\", \"'\", ',', \"'\", '*', \"'\", ',', \"'\", '*', \"'\", ',', \"'the\", \"'\", ',', \"'city\", \"'\", ',', \"'is\", \"'\", ',', \"'also\", \"'\", ',', \"'home\", \"'\", ',', \"'to\", \"'\", ',', \"'grand\", \"'\", ',', \"'palaces\", \"'\", ',', \"'like\", \"'\", ',', \"'the\", \"'\", ',', \"'bahia\", \"'\", ',', \"'palace\", \"'\", ',', \"'\", ',', \"'\", ',', \"'showcasing\", \"'\", ',', \"'intricate\", \"'\", ',', \"'islamic\", \"'\", ',', \"'architecture\", \"'\", ',', \"'\", ',', \"'\", ',', \"'and\", \"'\", ',', \"'the\", \"'\", ',', \"'saadian\", \"'\", ',', \"'tombs\", \"'\", ',', \"'\", ',', \"'\", ',', \"'remnants\", \"'\", ',', \"'of\", \"'\", ',', \"'the\", \"'\", ',', \"'saadian\", \"'\", ',', \"'dynasty\", \"'\", ',', \"'\", '.', \"'\", ',', \"'the\", \"'\", ',', \"'majorelle\", \"'\", ',', \"'garden\", \"'\", ',', \"'\", ',', \"'\", ',', \"'restored\", \"'\", ',', \"'by\", \"'\", ',', \"'the\", \"'\", ',', \"'fashion\", \"'\", ',', \"'designer\", \"'\", ',', \"'yves\", \"'\", ',', \"'saint\", \"'\", ',', \"'laurent\", \"'\", ',', \"'\", ',', \"'\", ',', \"'is\", \"'\", ',', \"'\", 'a', \"'\", ',', \"'tranquil\", \"'\", ',', \"'oasis\", \"'\", ',', \"'of\", \"'\", ',', \"'cacti\", \"'\", ',', \"'\", ',', \"'\", ',', \"'palm\", \"'\", ',', \"'trees\", \"'\", ',', \"'\", ',', \"'\", ',', \"'and\", \"'\", ',', \"'cobalt\", \"'\", ',', \"'blue\", \"'\", ',', \"'accents\", \"'\", ',', \"'\", '.', \"'\", ',', \"'\", '*', \"'\", ',', \"'\", '*', \"'\", ',', \"'modern\", \"'\", ',', \"'marrakech\", \"'\", ',', \"'\", '*', \"'\", ',', \"'\", '*', \"'\", ',', \"'while\", \"'\", ',', \"'tradition\", \"'\", ',', \"'and\", \"'\", ',', \"'history\", \"'\", ',', \"'permeate\", \"'\", ',', \"'marrakech\", \"'\", ',', \"'\", ',', \"'\", ',', \"'the\", \"'\", ',', \"'city\", \"'\", ',', \"'is\", \"'\", ',', \"'not\", \"'\", ',', \"'averse\", \"'\", ',', \"'to\", \"'\", ',', \"'the\", \"'\", ',', \"'modern\", \"'\", ',', \"'world\", \"'\", ',', \"'\", '.', \"'\", ',', \"'gueliz\", \"'\", ',', \"'\", ',', \"'\", ',', \"'the\", \"'\", ',', \"'new\", \"'\", ',', \"'town\", \"'\", ',', \"'\", ',', \"'\", ',', \"'is\", \"'\", ',', \"'brimming\", \"'\", ',', \"'with\", \"'\", ',', \"'contemporary\", \"'\", ',', \"'art\", \"'\", ',', \"'galleries\", \"'\", ',', \"'\", ',', \"'\", ',', \"'stylish\", \"'\", ',', \"'cafes\", \"'\", ',', \"'\", ',', \"'\", ',', \"'and\", \"'\", ',', \"'chic\", \"'\", ',', \"'boutiques\", \"'\", ',', \"'\", ',', \"'\", ',', \"'offering\", \"'\", ',', \"'\", 'a', \"'\", ',', \"'stark\", \"'\", ',', \"'contrast\", \"'\", ',', \"'to\", \"'\", ',', \"'the\", \"'\", ',', \"'ancient\", \"'\", ',', \"'medina\", \"'\", ',', \"'\", '.', \"'\", ',', \"'\", '*', \"'\", ',', \"'\", '*', \"'\", ',', \"'moroccan\", \"'\", ',', \"'cuisine\", \"'\", ',', \"'\", '*', \"'\", ',', \"'\", '*', \"'\", ',', \"'no\", \"'\", ',', \"'journey\", \"'\", ',', \"'through\", \"'\", ',', \"'morocco\", \"'\", ',', \"'and\", \"'\", ',', \"'marrakech\", \"'\", ',', \"'would\", \"'\", ',', \"'be\", \"'\", ',', \"'complete\", \"'\", ',', \"'without\", \"'\", ',', \"'indulging\", \"'\", ',', \"'in\", \"'\", ',', \"'the\", \"'\", ',', \"'local\", \"'\", ',', \"'cuisine\", \"'\", ',', \"'\", '.', \"'\", ',', \"'tagines\", \"'\", ',', \"'\", ',', \"'\", ',', \"'couscous\", \"'\", ',', \"'\", ',', \"'\", ',', \"'and\", \"'\", ',', \"'pastilla\", \"'\", ',', \"'are\", \"'\", ',', \"'just\", \"'\", ',', \"'\", 'a', \"'\", ',', \"'few\", \"'\", ',', \"'of\", \"'\", ',', \"'the\", \"'\", ',', \"'many\", \"'\", ',', \"'dishes\", \"'\", ',', \"'that\", \"'\", ',', \"'combine\", \"'\", ',', \"'\", 'a', \"'\", ',', \"'plethora\", \"'\", ',', \"'of\", \"'\", ',', \"'flavors\", \"'\", ',', \"'and\", \"'\", ',', \"'spices\", \"'\", ',', \"'like\", \"'\", ',', \"'saffron\", \"'\", ',', \"'\", ',', \"'\", ',', \"'cumin\", \"'\", ',', \"'\", ',', \"'\", ',', \"'and\", \"'\", ',', \"'mint\", \"'\", ',', \"'\", '.', \"'\", ',', \"'paired\", \"'\", ',', \"'with\", \"'\", ',', \"'moroccan\", \"'\", ',', \"'mint\", \"'\", ',', \"'tea\", \"'\", ',', \"'\", ',', \"'\", ',', \"'the\", \"'\", ',', \"'culinary\", \"'\", ',', \"'experience\", \"'\", ',', \"'is\", \"'\", ',', \"'truly\", \"'\", ',', \"'unparalleled\", \"'\", ',', \"'\", '.', \"'\", ',', \"'\", '*', \"'\", ',', \"'\", '*', \"'\", ',', \"'in\", \"'\", ',', \"'conclusion\", \"'\", ',', \"'\", '*', \"'\", ',', \"'\", '*', \"'\", ',', \"'morocco\", \"'\", ',', \"'\", ',', \"'\", ',', \"'with\", \"'\", ',', \"'marrakech\", \"'\", ',', \"'at\", \"'\", ',', \"'its\", \"'\", ',', \"'heart\", \"'\", ',', \"'\", ',', \"'\", ',', \"'offers\", \"'\", ',', \"'travelers\", \"'\", ',', \"'an\", \"'\", ',', \"'unparalleled\", \"'\", ',', \"'journey\", \"'\", ',', \"'through\", \"'\", ',', \"'time\", \"'\", ',', \"'\", '.', \"'\", ',', \"'the\", \"'\", ',', \"'convergence\", \"'\", ',', \"'of\", \"'\", ',', \"'history\", \"'\", ',', \"'\", ',', \"'\", ',', \"'culture\", \"'\", ',', \"'\", ',', \"'\", ',', \"'architecture\", \"'\", ',', \"'\", ',', \"'\", ',', \"'and\", \"'\", ',', \"'gastronomy\", \"'\", ',', \"'makes\", \"'\", ',', \"'it\", \"'\", ',', \"'an\", \"'\", ',', \"'enthralling\", \"'\", ',', \"'destination\", \"'\", ',', \"'for\", \"'\", ',', \"'those\", \"'\", ',', \"'seeking\", \"'\", ',', \"'both\", \"'\", ',', \"'adventure\", \"'\", ',', \"'and\", \"'\", ',', \"'reflection\", \"'\", ',', \"'\", '.', \"'\", ',', \"'as\", \"'\", ',', \"'the\", \"'\", ',', \"'moroccan\", \"'\", ',', \"'proverb\", \"'\", ',', \"'goes\", \"'\", ',', \"'\", ',', \"'\", ',', \"'\", '``', \"'\", ',', \"'he\", \"'\", ',', \"'who\", \"'\", ',', \"'does\", \"'\", ',', \"'not\", \"'\", ',', \"'travel\", \"'\", ',', \"'does\", \"'\", ',', \"'not\", \"'\", ',', \"'know\", \"'\", ',', \"'the\", \"'\", ',', \"'value\", \"'\", ',', \"'of\", \"'\", ',', \"'men\", \"'\", ',', \"'\", '.', \"'\", ',', '``', \"''\", \"''\", ',', \"'in\", \"'\", ',', \"'the\", \"'\", ',', \"'case\", \"'\", ',', \"'of\", \"'\", ',', \"'morocco\", \"'\", ',', \"'and\", \"'\", ',', \"'marrakech\", \"'\", ',', \"'\", ',', \"'\", ',', \"'it\", \"'\", ',', '``', \"'s\", \"''\", ',', \"'not\", \"'\", ',', \"'just\", \"'\", ',', \"'the\", \"'\", ',', \"'value\", \"'\", ',', \"'of\", \"'\", ',', \"'men\", \"'\", ',', \"'\", ',', \"'\", ',', \"'but\", \"'\", ',', \"'also\", \"'\", ',', \"'the\", \"'\", ',', \"'value\", \"'\", ',', \"'of\", \"'\", ',', \"'time\", \"'\", ',', \"'\", ',', \"'\", ',', \"'tradition\", \"'\", ',', \"'\", ',', \"'\", ',', \"'and\", \"'\", ',', \"'tales\", \"'\", ',', \"'that\", \"'\", ',', \"'have\", \"'\", ',', \"'spanned\", \"'\", ',', \"'centuries\", \"'\", ',', \"'\", '.', \"'\", ']']\n"
     ]
    }
   ],
   "source": [
    "# Assurez-vous que 'texte' est une chaîne de caractères\n",
    "texte = str(text)  # Hypothèse : 'texte' pourrait être un autre type de données\n",
    "\n",
    "# Mettre tout le texte en minuscules\n",
    "texte = texte.lower()\n",
    "\n",
    "from nltk.tokenize import word_tokenize\n",
    "\n",
    "# Tokeniser le texte en minuscules\n",
    "tokens = word_tokenize(texte)\n",
    "\n",
    "print(tokens)\n"
   ]
  },
  {
   "cell_type": "code",
   "execution_count": 61,
   "id": "f68c5994",
   "metadata": {},
   "outputs": [
    {
     "name": "stdout",
     "output_type": "stream",
     "text": [
      "Word2Vec<vocab=259, vector_size=100, alpha=0.025>\n"
     ]
    }
   ],
   "source": [
    "model = Word2Vec(sentences=[tokens], vector_size=100, window=5, min_count=1, workers=4)\n",
    "print(model)\n",
    "\n"
   ]
  },
  {
   "cell_type": "code",
   "execution_count": 62,
   "id": "4eac8954",
   "metadata": {},
   "outputs": [
    {
     "name": "stdout",
     "output_type": "stream",
     "text": [
      "Le mot 'Morocco' n'est pas dans le vocabulaire du modèle.\n"
     ]
    }
   ],
   "source": [
    "mot=\"Morocco\"\n",
    "if mot in model.wv:\n",
    "    representation_vec = model.wv[mot]\n",
    "    print(f\"Représentation vectorielle de '{mot}': {representation_vec}\")\n",
    "else:\n",
    "    print(f\"Le mot '{mot}' n'est pas dans le vocabulaire du modèle.\")"
   ]
  },
  {
   "cell_type": "code",
   "execution_count": 53,
   "id": "1f85df8f",
   "metadata": {},
   "outputs": [
    {
     "name": "stdout",
     "output_type": "stream",
     "text": [
      "Assurez-vous que les deux mots sont dans le vocabulaire du modèle.\n"
     ]
    }
   ],
   "source": [
    "mot1=\"marrakech\"\n",
    "mot2=\"city\"\n",
    "if mot1 in model.wv and mot2 in model.wv:\n",
    "    similarite = model.wv.similarity(mot1, mot2)\n",
    "    print(f\"Similarité entre '{mot1}' et '{mot2}': {similarite}\")\n",
    "else:\n",
    "    print(\"Assurez-vous que les deux mots sont dans le vocabulaire du modèle.\")"
   ]
  },
  {
   "cell_type": "code",
   "execution_count": 54,
   "id": "5424ba6e",
   "metadata": {},
   "outputs": [
    {
     "ename": "NameError",
     "evalue": "name 'mot_central' is not defined",
     "output_type": "error",
     "traceback": [
      "\u001b[1;31m---------------------------------------------------------------------------\u001b[0m",
      "\u001b[1;31mNameError\u001b[0m                                 Traceback (most recent call last)",
      "Cell \u001b[1;32mIn[54], line 8\u001b[0m\n\u001b[0;32m      6\u001b[0m         \u001b[38;5;28mprint\u001b[39m(\u001b[38;5;124mf\u001b[39m\u001b[38;5;124m\"\u001b[39m\u001b[38;5;132;01m{\u001b[39;00mmot\u001b[38;5;132;01m}\u001b[39;00m\u001b[38;5;124m: \u001b[39m\u001b[38;5;132;01m{\u001b[39;00msimilarite\u001b[38;5;132;01m}\u001b[39;00m\u001b[38;5;124m\"\u001b[39m)\n\u001b[0;32m      7\u001b[0m \u001b[38;5;28;01melse\u001b[39;00m:\n\u001b[1;32m----> 8\u001b[0m     \u001b[38;5;28mprint\u001b[39m(\u001b[38;5;124mf\u001b[39m\u001b[38;5;124m\"\u001b[39m\u001b[38;5;124mLe mot \u001b[39m\u001b[38;5;124m'\u001b[39m\u001b[38;5;132;01m{\u001b[39;00mmot_central\u001b[38;5;132;01m}\u001b[39;00m\u001b[38;5;124m'\u001b[39m\u001b[38;5;124m n\u001b[39m\u001b[38;5;124m'\u001b[39m\u001b[38;5;124mest pas dans le vocabulaire du modèle.\u001b[39m\u001b[38;5;124m\"\u001b[39m)\n\u001b[0;32m     10\u001b[0m \u001b[38;5;28mprint\u001b[39m(mots_contextuels)\n",
      "\u001b[1;31mNameError\u001b[0m: name 'mot_central' is not defined"
     ]
    }
   ],
   "source": [
    "mot=\"morocco\"\n",
    "if mot in model.wv:\n",
    "    mots_contextuels = model.wv.most_similar(mot,topn=5)\n",
    "    print(f\"Mots contextuels les plus similaires pour '{mot}':\")\n",
    "    for mot, similarite in mots_contextuels:\n",
    "        print(f\"{mot}: {similarite}\")\n",
    "else:\n",
    "    print(f\"Le mot '{mot_central}' n'est pas dans le vocabulaire du modèle.\")\n",
    "    \n",
    "print(mots_contextuels)"
   ]
  },
  {
   "cell_type": "code",
   "execution_count": null,
   "id": "46169c6a",
   "metadata": {},
   "outputs": [],
   "source": []
  }
 ],
 "metadata": {
  "kernelspec": {
   "display_name": "Python 3 (ipykernel)",
   "language": "python",
   "name": "python3"
  },
  "language_info": {
   "codemirror_mode": {
    "name": "ipython",
    "version": 3
   },
   "file_extension": ".py",
   "mimetype": "text/x-python",
   "name": "python",
   "nbconvert_exporter": "python",
   "pygments_lexer": "ipython3",
   "version": "3.11.5"
  }
 },
 "nbformat": 4,
 "nbformat_minor": 5
}
