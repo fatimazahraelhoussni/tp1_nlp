{
 "cells": [
  {
   "cell_type": "markdown",
   "id": "0a603ebd",
   "metadata": {},
   "source": [
    "# Étape 1 : Importer les modules nécessaires"
   ]
  },
  {
   "cell_type": "code",
   "execution_count": 11,
   "id": "e344786b",
   "metadata": {},
   "outputs": [],
   "source": [
    "import gensim\n",
    "import pandas as pd\n",
    "import os"
   ]
  },
  {
   "cell_type": "code",
   "execution_count": null,
   "id": "2ffee880",
   "metadata": {},
   "outputs": [],
   "source": [
    "#En exécutant ce code, vous verrez le chemin absolu du répertoire dans lequel vous travaillez actuellement"
   ]
  },
  {
   "cell_type": "code",
   "execution_count": 12,
   "id": "a14f5a4e",
   "metadata": {},
   "outputs": [
    {
     "data": {
      "text/plain": [
       "'C:\\\\Users\\\\d'"
      ]
     },
     "execution_count": 12,
     "metadata": {},
     "output_type": "execute_result"
    }
   ],
   "source": [
    "os.getcwd()"
   ]
  },
  {
   "cell_type": "markdown",
   "id": "ffee0435",
   "metadata": {},
   "source": [
    "# Étape 2 : Charger le texte :"
   ]
  },
  {
   "cell_type": "code",
   "execution_count": 13,
   "id": "53249976",
   "metadata": {},
   "outputs": [
    {
     "name": "stdout",
     "output_type": "stream",
     "text": [
      "**Morocco and Marrakech: A Tapestry of Tradition and Modernity** Morocco, located at the crossroads of Europe and Africa, is a country drenched in history, mystery, and cultural richness. A testament to the ancient civilizations that once flourished here, this North African kingdom boasts a unique blend of Arab, Berber, and European influences. At the heart of Morocco's rich tapestry lies Marrakech, one of its four imperial cities and a vibrant epicenter of tradition and modernity. **Geographical Significance** Morocco is bordered by the Atlantic Ocean to the west, the Mediterranean Sea to the north, Algeria to the east and southeast, and the vast Sahara desert to the south. Its strategic location has historically made it a sought-after territory and a melting pot of cultures, religions, and trade routes. **Marrakech: The Red City** Marrakech, often referred to as \"The Red City\" due to its distinctive red-hued buildings, stands against the backdrop of the snow-capped Atlas Mountains. Established in the 11th century, it has remained a crucial political, economic, and cultural center of Morocco. **Journey through the Medina** Marrakech's old town, the Medina, is a UNESCO World Heritage site and a labyrinthine maze of narrow alleys, bustling souks, and historical landmarks. The Djemaa el-Fna Square lies at the heart of the Medina and comes alive every evening with storytellers, musicians, snake charmers, and food stalls offering tantalizing Moroccan delicacies. **Palaces and Gardens** The city is also home to grand palaces like the Bahia Palace, showcasing intricate Islamic architecture, and the Saadian Tombs, remnants of the Saadian dynasty. The Majorelle Garden, restored by the fashion designer Yves Saint Laurent, is a tranquil oasis of cacti, palm trees, and cobalt blue accents. **Modern Marrakech** While tradition and history permeate Marrakech, the city is not averse to the modern world. Gueliz, the new town, is brimming with contemporary art galleries, stylish cafes, and chic boutiques, offering a stark contrast to the ancient Medina. **Moroccan Cuisine** No journey through Morocco and Marrakech would be complete without indulging in the local cuisine. Tagines, couscous, and pastilla are just a few of the many dishes that combine a plethora of flavors and spices like saffron, cumin, and mint. Paired with Moroccan mint tea, the culinary experience is truly unparalleled. **In Conclusion** Morocco, with Marrakech at its heart, offers travelers an unparalleled journey through time. The convergence of history, culture, architecture, and gastronomy makes it an enthralling destination for those seeking both adventure and reflection. As the Moroccan proverb goes, \"He who does not travel does not know the value of men.\" In the case of Morocco and Marrakech, it's not just the value of men, but also the value of time, tradition, and tales that have spanned centuries.\n"
     ]
    }
   ],
   "source": [
    "with open(\"text\", 'r', encoding='utf-8') as file:\n",
    "    text = file.read()\n",
    "    \n",
    "print(text)"
   ]
  },
  {
   "cell_type": "markdown",
   "id": "f9317024",
   "metadata": {},
   "source": [
    "# Étape 3: tokenization"
   ]
  },
  {
   "cell_type": "code",
   "execution_count": 3,
   "id": "03c9fa89",
   "metadata": {},
   "outputs": [],
   "source": [
    "from nltk.tokenize import sent_tokenize, word_tokenize"
   ]
  },
  {
   "cell_type": "code",
   "execution_count": 4,
   "id": "b6a66add",
   "metadata": {},
   "outputs": [
    {
     "name": "stdout",
     "output_type": "stream",
     "text": [
      "['*', '*', 'morocco', 'and', 'marrakech', ':', 'a', 'tapestry', 'of', 'tradition', 'and', 'modernity', '*', '*', 'morocco', ',', 'located', 'at', 'the', 'crossroads', 'of', 'europe', 'and', 'africa', ',', 'is', 'a', 'country', 'drenched', 'in', 'history', ',', 'mystery', ',', 'and', 'cultural', 'richness', '.', 'a', 'testament', 'to', 'the', 'ancient', 'civilizations', 'that', 'once', 'flourished', 'here', ',', 'this', 'north', 'african', 'kingdom', 'boasts', 'a', 'unique', 'blend', 'of', 'arab', ',', 'berber', ',', 'and', 'european', 'influences', '.', 'at', 'the', 'heart', 'of', 'morocco', \"'s\", 'rich', 'tapestry', 'lies', 'marrakech', ',', 'one', 'of', 'its', 'four', 'imperial', 'cities', 'and', 'a', 'vibrant', 'epicenter', 'of', 'tradition', 'and', 'modernity', '.', '*', '*', 'geographical', 'significance', '*', '*', 'morocco', 'is', 'bordered', 'by', 'the', 'atlantic', 'ocean', 'to', 'the', 'west', ',', 'the', 'mediterranean', 'sea', 'to', 'the', 'north', ',', 'algeria', 'to', 'the', 'east', 'and', 'southeast', ',', 'and', 'the', 'vast', 'sahara', 'desert', 'to', 'the', 'south', '.', 'its', 'strategic', 'location', 'has', 'historically', 'made', 'it', 'a', 'sought-after', 'territory', 'and', 'a', 'melting', 'pot', 'of', 'cultures', ',', 'religions', ',', 'and', 'trade', 'routes', '.', '*', '*', 'marrakech', ':', 'the', 'red', 'city', '*', '*', 'marrakech', ',', 'often', 'referred', 'to', 'as', '``', 'the', 'red', 'city', \"''\", 'due', 'to', 'its', 'distinctive', 'red-hued', 'buildings', ',', 'stands', 'against', 'the', 'backdrop', 'of', 'the', 'snow-capped', 'atlas', 'mountains', '.', 'established', 'in', 'the', '11th', 'century', ',', 'it', 'has', 'remained', 'a', 'crucial', 'political', ',', 'economic', ',', 'and', 'cultural', 'center', 'of', 'morocco', '.', '*', '*', 'journey', 'through', 'the', 'medina', '*', '*', 'marrakech', \"'s\", 'old', 'town', ',', 'the', 'medina', ',', 'is', 'a', 'unesco', 'world', 'heritage', 'site', 'and', 'a', 'labyrinthine', 'maze', 'of', 'narrow', 'alleys', ',', 'bustling', 'souks', ',', 'and', 'historical', 'landmarks', '.', 'the', 'djemaa', 'el-fna', 'square', 'lies', 'at', 'the', 'heart', 'of', 'the', 'medina', 'and', 'comes', 'alive', 'every', 'evening', 'with', 'storytellers', ',', 'musicians', ',', 'snake', 'charmers', ',', 'and', 'food', 'stalls', 'offering', 'tantalizing', 'moroccan', 'delicacies', '.', '*', '*', 'palaces', 'and', 'gardens', '*', '*', 'the', 'city', 'is', 'also', 'home', 'to', 'grand', 'palaces', 'like', 'the', 'bahia', 'palace', ',', 'showcasing', 'intricate', 'islamic', 'architecture', ',', 'and', 'the', 'saadian', 'tombs', ',', 'remnants', 'of', 'the', 'saadian', 'dynasty', '.', 'the', 'majorelle', 'garden', ',', 'restored', 'by', 'the', 'fashion', 'designer', 'yves', 'saint', 'laurent', ',', 'is', 'a', 'tranquil', 'oasis', 'of', 'cacti', ',', 'palm', 'trees', ',', 'and', 'cobalt', 'blue', 'accents', '.', '*', '*', 'modern', 'marrakech', '*', '*', 'while', 'tradition', 'and', 'history', 'permeate', 'marrakech', ',', 'the', 'city', 'is', 'not', 'averse', 'to', 'the', 'modern', 'world', '.', 'gueliz', ',', 'the', 'new', 'town', ',', 'is', 'brimming', 'with', 'contemporary', 'art', 'galleries', ',', 'stylish', 'cafes', ',', 'and', 'chic', 'boutiques', ',', 'offering', 'a', 'stark', 'contrast', 'to', 'the', 'ancient', 'medina', '.', '*', '*', 'moroccan', 'cuisine', '*', '*', 'no', 'journey', 'through', 'morocco', 'and', 'marrakech', 'would', 'be', 'complete', 'without', 'indulging', 'in', 'the', 'local', 'cuisine', '.', 'tagines', ',', 'couscous', ',', 'and', 'pastilla', 'are', 'just', 'a', 'few', 'of', 'the', 'many', 'dishes', 'that', 'combine', 'a', 'plethora', 'of', 'flavors', 'and', 'spices', 'like', 'saffron', ',', 'cumin', ',', 'and', 'mint', '.', 'paired', 'with', 'moroccan', 'mint', 'tea', ',', 'the', 'culinary', 'experience', 'is', 'truly', 'unparalleled', '.', '*', '*', 'in', 'conclusion', '*', '*', 'morocco', ',', 'with', 'marrakech', 'at', 'its', 'heart', ',', 'offers', 'travelers', 'an', 'unparalleled', 'journey', 'through', 'time', '.', 'the', 'convergence', 'of', 'history', ',', 'culture', ',', 'architecture', ',', 'and', 'gastronomy', 'makes', 'it', 'an', 'enthralling', 'destination', 'for', 'those', 'seeking', 'both', 'adventure', 'and', 'reflection', '.', 'as', 'the', 'moroccan', 'proverb', 'goes', ',', '``', 'he', 'who', 'does', 'not', 'travel', 'does', 'not', 'know', 'the', 'value', 'of', 'men', '.', \"''\", 'in', 'the', 'case', 'of', 'morocco', 'and', 'marrakech', ',', 'it', \"'s\", 'not', 'just', 'the', 'value', 'of', 'men', ',', 'but', 'also', 'the', 'value', 'of', 'time', ',', 'tradition', ',', 'and', 'tales', 'that', 'have', 'spanned', 'centuries', '.']\n"
     ]
    }
   ],
   "source": [
    "tokens = word_tokenize(text.lower())\n",
    "print(tokens)"
   ]
  },
  {
   "cell_type": "markdown",
   "id": "be0b834b",
   "metadata": {},
   "source": [
    "# Étape 4 : Entraîner le modèle word2vec"
   ]
  },
  {
   "cell_type": "code",
   "execution_count": 6,
   "id": "29e1ebca",
   "metadata": {},
   "outputs": [
    {
     "name": "stdout",
     "output_type": "stream",
     "text": [
      "Word2Vec<vocab=256, vector_size=100, alpha=0.025>\n"
     ]
    }
   ],
   "source": [
    "from gensim.models import Word2Vec\n",
    "model = Word2Vec(sentences=[tokens], vector_size=100, window=5, min_count=1, workers=4)\n",
    "print(model)"
   ]
  },
  {
   "cell_type": "markdown",
   "id": "3b79b0dd",
   "metadata": {},
   "source": [
    "# Étape 5 : Extraire la représentation vectorielle d'un mot"
   ]
  },
  {
   "cell_type": "code",
   "execution_count": 7,
   "id": "c5d13f54",
   "metadata": {},
   "outputs": [
    {
     "name": "stdout",
     "output_type": "stream",
     "text": [
      "Représentation vectorielle de 'morocco': [-5.3521870e-03 -6.3152849e-03 -7.5705540e-03  8.4748827e-03\n",
      " -1.8369526e-03 -7.4583017e-03 -3.5855665e-03  5.8824224e-03\n",
      " -3.3598649e-03 -4.2308206e-03  1.7384501e-03 -3.2191454e-03\n",
      " -1.7341455e-03  1.0104151e-03 -3.0318762e-03  8.3515439e-03\n",
      "  4.1013723e-03 -1.0412180e-02  6.0250540e-03 -7.6358314e-03\n",
      "  8.0689025e-04  4.4111619e-03 -4.7270409e-03 -2.1708664e-03\n",
      "  8.1192991e-03 -4.1506854e-03 -7.8375544e-03  8.9479191e-03\n",
      " -2.4769423e-03 -4.7074016e-03  8.8802362e-03  4.4401265e-03\n",
      "  4.5653675e-03  8.9925053e-03 -8.6751990e-03  5.7348716e-03\n",
      "  2.2164753e-03  4.0372470e-03  1.3651052e-03  3.8336930e-03\n",
      "  4.5678709e-03  5.7298583e-03 -3.3069365e-03 -4.5204447e-03\n",
      " -3.6652418e-06  2.5565994e-03 -3.4950713e-03  6.0166656e-03\n",
      "  4.3269014e-03  7.9088472e-03  2.9703521e-03  8.0122780e-03\n",
      " -1.4443510e-03  7.9522133e-03  3.4716511e-03 -7.9736989e-03\n",
      " -3.6889925e-03 -2.4512168e-03  4.5811408e-03 -7.8654184e-04\n",
      " -2.7930215e-03  7.7747847e-03  9.5897214e-03 -1.7822172e-03\n",
      " -5.5203899e-03 -4.5582191e-03 -4.6752603e-03 -9.2308028e-03\n",
      "  9.1934309e-04 -3.9130766e-03  2.2842167e-03  5.8740284e-03\n",
      " -3.7624293e-03 -9.5536849e-03  2.0999562e-03 -6.4444817e-03\n",
      "  2.5771037e-03 -3.7017269e-03  6.8751220e-03  7.3051365e-04\n",
      "  3.4001933e-03 -2.6446758e-03 -1.8758517e-03  7.9934550e-03\n",
      "  1.0473087e-03 -5.9560966e-03 -7.5549963e-03  1.7518547e-03\n",
      "  6.7417133e-03  5.2381367e-03 -8.6347358e-03  9.0196412e-03\n",
      "  4.0441300e-03  7.6156957e-03  1.0511445e-02 -7.0877932e-03\n",
      " -8.8966535e-03  5.6476062e-03  9.3641086e-03  3.3962000e-03]\n"
     ]
    }
   ],
   "source": [
    "mot=\"morocco\"\n",
    "if mot in model.wv:\n",
    "    representation_vec = model.wv[mot]\n",
    "    print(f\"Représentation vectorielle de '{mot}': {representation_vec}\")\n",
    "else:\n",
    "    print(f\"Le mot '{mot}' n'est pas dans le vocabulaire du modèle.\")"
   ]
  },
  {
   "cell_type": "markdown",
   "id": "e82951f8",
   "metadata": {},
   "source": [
    "# Calculer la similarité entre deux mots"
   ]
  },
  {
   "cell_type": "code",
   "execution_count": 8,
   "id": "f6e5f21c",
   "metadata": {},
   "outputs": [
    {
     "name": "stdout",
     "output_type": "stream",
     "text": [
      "Similarité entre 'marrakech' et 'city': -0.004921875894069672\n"
     ]
    }
   ],
   "source": [
    "mot1=\"marrakech\"\n",
    "mot2=\"city\"\n",
    "if mot1 in model.wv and mot2 in model.wv:\n",
    "    similarite = model.wv.similarity(mot1, mot2)\n",
    "    print(f\"Similarité entre '{mot1}' et '{mot2}': {similarite}\")\n",
    "else:\n",
    "    print(\"Assurez-vous que les deux mots sont dans le vocabulaire du modèle.\")"
   ]
  },
  {
   "cell_type": "markdown",
   "id": "8f84909c",
   "metadata": {},
   "source": [
    "# Extraire les mots contextuels (les plus similaires) pour un mot central donné"
   ]
  },
  {
   "cell_type": "code",
   "execution_count": 9,
   "id": "501c9659",
   "metadata": {},
   "outputs": [
    {
     "name": "stdout",
     "output_type": "stream",
     "text": [
      "Mots contextuels les plus similaires pour 'morocco':\n",
      "proverb: 0.31528180837631226\n",
      "kingdom: 0.26432570815086365\n",
      "unparalleled: 0.25275084376335144\n",
      ",: 0.2334689199924469\n",
      "would: 0.23267042636871338\n",
      "[('proverb', 0.31528180837631226), ('kingdom', 0.26432570815086365), ('unparalleled', 0.25275084376335144), (',', 0.2334689199924469), ('would', 0.23267042636871338)]\n"
     ]
    }
   ],
   "source": [
    "mot=\"morocco\"\n",
    "if mot in model.wv:\n",
    "    mots_contextuels = model.wv.most_similar(mot,topn=5)\n",
    "    print(f\"Mots contextuels les plus similaires pour '{mot}':\")\n",
    "    for mot, similarite in mots_contextuels:\n",
    "        print(f\"{mot}: {similarite}\")\n",
    "else:\n",
    "    print(f\"Le mot '{mot_central}' n'est pas dans le vocabulaire du modèle.\")\n",
    "    \n",
    "print(mots_contextuels)"
   ]
  },
  {
   "cell_type": "code",
   "execution_count": null,
   "id": "896a05b7",
   "metadata": {},
   "outputs": [],
   "source": []
  },
  {
   "cell_type": "code",
   "execution_count": null,
   "id": "842e132f",
   "metadata": {},
   "outputs": [],
   "source": []
  },
  {
   "cell_type": "code",
   "execution_count": null,
   "id": "557f385d",
   "metadata": {},
   "outputs": [],
   "source": []
  },
  {
   "cell_type": "code",
   "execution_count": null,
   "id": "02ed6c88",
   "metadata": {},
   "outputs": [],
   "source": []
  },
  {
   "cell_type": "code",
   "execution_count": null,
   "id": "5e1c2020",
   "metadata": {},
   "outputs": [],
   "source": []
  },
  {
   "cell_type": "code",
   "execution_count": null,
   "id": "eb0de9fd",
   "metadata": {},
   "outputs": [],
   "source": []
  },
  {
   "cell_type": "code",
   "execution_count": null,
   "id": "9584c039",
   "metadata": {},
   "outputs": [],
   "source": []
  },
  {
   "cell_type": "code",
   "execution_count": null,
   "id": "34c625d0",
   "metadata": {},
   "outputs": [],
   "source": []
  },
  {
   "cell_type": "markdown",
   "id": "dafe5c57",
   "metadata": {},
   "source": []
  },
  {
   "cell_type": "code",
   "execution_count": null,
   "id": "d166e352",
   "metadata": {},
   "outputs": [],
   "source": []
  },
  {
   "cell_type": "code",
   "execution_count": null,
   "id": "f37702c8",
   "metadata": {},
   "outputs": [],
   "source": []
  },
  {
   "cell_type": "code",
   "execution_count": null,
   "id": "5eb6a6ab",
   "metadata": {},
   "outputs": [],
   "source": []
  },
  {
   "cell_type": "code",
   "execution_count": null,
   "id": "c5c7fc72",
   "metadata": {},
   "outputs": [],
   "source": []
  },
  {
   "cell_type": "code",
   "execution_count": null,
   "id": "fca0434b",
   "metadata": {},
   "outputs": [],
   "source": []
  }
 ],
 "metadata": {
  "kernelspec": {
   "display_name": "Python 3 (ipykernel)",
   "language": "python",
   "name": "python3"
  },
  "language_info": {
   "codemirror_mode": {
    "name": "ipython",
    "version": 3
   },
   "file_extension": ".py",
   "mimetype": "text/x-python",
   "name": "python",
   "nbconvert_exporter": "python",
   "pygments_lexer": "ipython3",
   "version": "3.11.5"
  }
 },
 "nbformat": 4,
 "nbformat_minor": 5
}
